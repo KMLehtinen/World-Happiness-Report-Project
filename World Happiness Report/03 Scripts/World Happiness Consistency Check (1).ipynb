{
 "cells": [
  {
   "cell_type": "code",
   "execution_count": 196,
   "id": "89071b84",
   "metadata": {},
   "outputs": [],
   "source": [
    "# Import Libraries\n",
    "\n",
    "import pandas as pd\n",
    "import numpy as np\n",
    "import os"
   ]
  },
  {
   "cell_type": "code",
   "execution_count": 197,
   "id": "1bca2949",
   "metadata": {},
   "outputs": [],
   "source": [
    "# Path\n",
    "path=r'/Users/kristenlehtinen/Documents/World Happiness Report/'"
   ]
  },
  {
   "cell_type": "code",
   "execution_count": 235,
   "id": "5c672d0c",
   "metadata": {},
   "outputs": [],
   "source": [
    "# Importing 2015 Data\n",
    "data_2015 = pd.read_csv(r'/Users/kristenlehtinen/Documents/World Happiness Report/02 Data/Original Data/merged world happiness report.csv')"
   ]
  },
  {
   "cell_type": "code",
   "execution_count": 233,
   "id": "50500322",
   "metadata": {},
   "outputs": [],
   "source": [
    "#Importing merged data\n",
    "merged_data=pd.read_csv(r'/Users/kristenlehtinen/Documents/World Happiness Report/02 Data/Original Data/2015.csv')"
   ]
  },
  {
   "cell_type": "raw",
   "id": "bb044e6c",
   "metadata": {},
   "source": [
    "merged_data.head()"
   ]
  },
  {
   "cell_type": "code",
   "execution_count": 239,
   "id": "5af54cc6",
   "metadata": {},
   "outputs": [
    {
     "data": {
      "text/html": [
       "<div>\n",
       "<style scoped>\n",
       "    .dataframe tbody tr th:only-of-type {\n",
       "        vertical-align: middle;\n",
       "    }\n",
       "\n",
       "    .dataframe tbody tr th {\n",
       "        vertical-align: top;\n",
       "    }\n",
       "\n",
       "    .dataframe thead th {\n",
       "        text-align: right;\n",
       "    }\n",
       "</style>\n",
       "<table border=\"1\" class=\"dataframe\">\n",
       "  <thead>\n",
       "    <tr style=\"text-align: right;\">\n",
       "      <th></th>\n",
       "      <th>Year</th>\n",
       "      <th>Country</th>\n",
       "      <th>Happiness Rank</th>\n",
       "      <th>Happiness Score</th>\n",
       "      <th>Economy</th>\n",
       "      <th>Social Support</th>\n",
       "      <th>Life Expectancy</th>\n",
       "      <th>Freedom</th>\n",
       "      <th>Governmental Trust</th>\n",
       "      <th>Generosity</th>\n",
       "    </tr>\n",
       "  </thead>\n",
       "  <tbody>\n",
       "    <tr>\n",
       "      <th>0</th>\n",
       "      <td>2015</td>\n",
       "      <td>Switzerland</td>\n",
       "      <td>1</td>\n",
       "      <td>7.587</td>\n",
       "      <td>1.39651</td>\n",
       "      <td>1.34951</td>\n",
       "      <td>0.94143</td>\n",
       "      <td>0.66557</td>\n",
       "      <td>0.41978</td>\n",
       "      <td>0.29678</td>\n",
       "    </tr>\n",
       "    <tr>\n",
       "      <th>1</th>\n",
       "      <td>2015</td>\n",
       "      <td>Iceland</td>\n",
       "      <td>2</td>\n",
       "      <td>7.561</td>\n",
       "      <td>1.30232</td>\n",
       "      <td>1.40223</td>\n",
       "      <td>0.94784</td>\n",
       "      <td>0.62877</td>\n",
       "      <td>0.14145</td>\n",
       "      <td>0.43630</td>\n",
       "    </tr>\n",
       "    <tr>\n",
       "      <th>2</th>\n",
       "      <td>2015</td>\n",
       "      <td>Denmark</td>\n",
       "      <td>3</td>\n",
       "      <td>7.527</td>\n",
       "      <td>1.32548</td>\n",
       "      <td>1.36058</td>\n",
       "      <td>0.87464</td>\n",
       "      <td>0.64938</td>\n",
       "      <td>0.48357</td>\n",
       "      <td>0.34139</td>\n",
       "    </tr>\n",
       "    <tr>\n",
       "      <th>3</th>\n",
       "      <td>2015</td>\n",
       "      <td>Norway</td>\n",
       "      <td>4</td>\n",
       "      <td>7.522</td>\n",
       "      <td>1.45900</td>\n",
       "      <td>1.33095</td>\n",
       "      <td>0.88521</td>\n",
       "      <td>0.66973</td>\n",
       "      <td>0.36503</td>\n",
       "      <td>0.34699</td>\n",
       "    </tr>\n",
       "    <tr>\n",
       "      <th>4</th>\n",
       "      <td>2015</td>\n",
       "      <td>Canada</td>\n",
       "      <td>5</td>\n",
       "      <td>7.427</td>\n",
       "      <td>1.32629</td>\n",
       "      <td>1.32261</td>\n",
       "      <td>0.90563</td>\n",
       "      <td>0.63297</td>\n",
       "      <td>0.32957</td>\n",
       "      <td>0.45811</td>\n",
       "    </tr>\n",
       "  </tbody>\n",
       "</table>\n",
       "</div>"
      ],
      "text/plain": [
       "   Year      Country  Happiness Rank  Happiness Score  Economy  \\\n",
       "0  2015  Switzerland               1            7.587  1.39651   \n",
       "1  2015      Iceland               2            7.561  1.30232   \n",
       "2  2015      Denmark               3            7.527  1.32548   \n",
       "3  2015       Norway               4            7.522  1.45900   \n",
       "4  2015       Canada               5            7.427  1.32629   \n",
       "\n",
       "   Social Support  Life Expectancy  Freedom  Governmental Trust  Generosity  \n",
       "0         1.34951          0.94143  0.66557             0.41978     0.29678  \n",
       "1         1.40223          0.94784  0.62877             0.14145     0.43630  \n",
       "2         1.36058          0.87464  0.64938             0.48357     0.34139  \n",
       "3         1.33095          0.88521  0.66973             0.36503     0.34699  \n",
       "4         1.32261          0.90563  0.63297             0.32957     0.45811  "
      ]
     },
     "execution_count": 239,
     "metadata": {},
     "output_type": "execute_result"
    }
   ],
   "source": [
    "data_2015.head()"
   ]
  },
  {
   "cell_type": "code",
   "execution_count": 240,
   "id": "a2158178",
   "metadata": {},
   "outputs": [],
   "source": [
    "# Importing 2016 Data\n",
    "data_2016 = pd.read_csv(r'/Users/kristenlehtinen/Documents/World Happiness Report/02 Data/Original Data/2016.csv')"
   ]
  },
  {
   "cell_type": "code",
   "execution_count": 241,
   "id": "8ee76fb6",
   "metadata": {},
   "outputs": [
    {
     "data": {
      "text/html": [
       "<div>\n",
       "<style scoped>\n",
       "    .dataframe tbody tr th:only-of-type {\n",
       "        vertical-align: middle;\n",
       "    }\n",
       "\n",
       "    .dataframe tbody tr th {\n",
       "        vertical-align: top;\n",
       "    }\n",
       "\n",
       "    .dataframe thead th {\n",
       "        text-align: right;\n",
       "    }\n",
       "</style>\n",
       "<table border=\"1\" class=\"dataframe\">\n",
       "  <thead>\n",
       "    <tr style=\"text-align: right;\">\n",
       "      <th></th>\n",
       "      <th>Year</th>\n",
       "      <th>Country</th>\n",
       "      <th>Happiness Rank</th>\n",
       "      <th>Happiness Score</th>\n",
       "      <th>Economy</th>\n",
       "      <th>Social Support</th>\n",
       "      <th>Life Expectancy</th>\n",
       "      <th>Freedom</th>\n",
       "      <th>Governmental Trust</th>\n",
       "      <th>Generosity</th>\n",
       "    </tr>\n",
       "  </thead>\n",
       "  <tbody>\n",
       "    <tr>\n",
       "      <th>0</th>\n",
       "      <td>2016</td>\n",
       "      <td>Denmark</td>\n",
       "      <td>1</td>\n",
       "      <td>7.526</td>\n",
       "      <td>1.44178</td>\n",
       "      <td>1.16374</td>\n",
       "      <td>0.79504</td>\n",
       "      <td>0.57941</td>\n",
       "      <td>0.44453</td>\n",
       "      <td>0.36171</td>\n",
       "    </tr>\n",
       "    <tr>\n",
       "      <th>1</th>\n",
       "      <td>2016</td>\n",
       "      <td>Switzerland</td>\n",
       "      <td>2</td>\n",
       "      <td>7.509</td>\n",
       "      <td>1.52733</td>\n",
       "      <td>1.14524</td>\n",
       "      <td>0.86303</td>\n",
       "      <td>0.58557</td>\n",
       "      <td>0.41203</td>\n",
       "      <td>0.28083</td>\n",
       "    </tr>\n",
       "    <tr>\n",
       "      <th>2</th>\n",
       "      <td>2016</td>\n",
       "      <td>Iceland</td>\n",
       "      <td>3</td>\n",
       "      <td>7.501</td>\n",
       "      <td>1.42666</td>\n",
       "      <td>1.18326</td>\n",
       "      <td>0.86733</td>\n",
       "      <td>0.56624</td>\n",
       "      <td>0.14975</td>\n",
       "      <td>0.47678</td>\n",
       "    </tr>\n",
       "    <tr>\n",
       "      <th>3</th>\n",
       "      <td>2016</td>\n",
       "      <td>Norway</td>\n",
       "      <td>4</td>\n",
       "      <td>7.498</td>\n",
       "      <td>1.57744</td>\n",
       "      <td>1.12690</td>\n",
       "      <td>0.79579</td>\n",
       "      <td>0.59609</td>\n",
       "      <td>0.35776</td>\n",
       "      <td>0.37895</td>\n",
       "    </tr>\n",
       "    <tr>\n",
       "      <th>4</th>\n",
       "      <td>2016</td>\n",
       "      <td>Finland</td>\n",
       "      <td>5</td>\n",
       "      <td>7.413</td>\n",
       "      <td>1.40598</td>\n",
       "      <td>1.13464</td>\n",
       "      <td>0.81091</td>\n",
       "      <td>0.57104</td>\n",
       "      <td>0.41004</td>\n",
       "      <td>0.25492</td>\n",
       "    </tr>\n",
       "  </tbody>\n",
       "</table>\n",
       "</div>"
      ],
      "text/plain": [
       "   Year      Country  Happiness Rank  Happiness Score  Economy   \\\n",
       "0  2016      Denmark               1            7.526   1.44178   \n",
       "1  2016  Switzerland               2            7.509   1.52733   \n",
       "2  2016      Iceland               3            7.501   1.42666   \n",
       "3  2016       Norway               4            7.498   1.57744   \n",
       "4  2016      Finland               5            7.413   1.40598   \n",
       "\n",
       "   Social Support  Life Expectancy  Freedom  Governmental Trust  Generosity  \n",
       "0         1.16374          0.79504  0.57941             0.44453     0.36171  \n",
       "1         1.14524          0.86303  0.58557             0.41203     0.28083  \n",
       "2         1.18326          0.86733  0.56624             0.14975     0.47678  \n",
       "3         1.12690          0.79579  0.59609             0.35776     0.37895  \n",
       "4         1.13464          0.81091  0.57104             0.41004     0.25492  "
      ]
     },
     "execution_count": 241,
     "metadata": {},
     "output_type": "execute_result"
    }
   ],
   "source": [
    "data_2016.head()"
   ]
  },
  {
   "cell_type": "code",
   "execution_count": 242,
   "id": "090ac320",
   "metadata": {},
   "outputs": [],
   "source": [
    "# Importing 2017 Data\n",
    "data_2017 = pd.read_csv(r'/Users/kristenlehtinen/Documents/World Happiness Report/02 Data/Original Data/2017.csv')"
   ]
  },
  {
   "cell_type": "code",
   "execution_count": 243,
   "id": "9163d96b",
   "metadata": {},
   "outputs": [
    {
     "data": {
      "text/html": [
       "<div>\n",
       "<style scoped>\n",
       "    .dataframe tbody tr th:only-of-type {\n",
       "        vertical-align: middle;\n",
       "    }\n",
       "\n",
       "    .dataframe tbody tr th {\n",
       "        vertical-align: top;\n",
       "    }\n",
       "\n",
       "    .dataframe thead th {\n",
       "        text-align: right;\n",
       "    }\n",
       "</style>\n",
       "<table border=\"1\" class=\"dataframe\">\n",
       "  <thead>\n",
       "    <tr style=\"text-align: right;\">\n",
       "      <th></th>\n",
       "      <th>Year</th>\n",
       "      <th>Country</th>\n",
       "      <th>Happiness Rank</th>\n",
       "      <th>Happiness Score</th>\n",
       "      <th>Economy</th>\n",
       "      <th>Social Support</th>\n",
       "      <th>Life Expectancy</th>\n",
       "      <th>Freedom</th>\n",
       "      <th>Governmental Trust</th>\n",
       "      <th>Generosity</th>\n",
       "      <th>Unnamed: 10</th>\n",
       "      <th>Unnamed: 11</th>\n",
       "    </tr>\n",
       "  </thead>\n",
       "  <tbody>\n",
       "    <tr>\n",
       "      <th>0</th>\n",
       "      <td>2017</td>\n",
       "      <td>Norway</td>\n",
       "      <td>1</td>\n",
       "      <td>7.537</td>\n",
       "      <td>1.616463</td>\n",
       "      <td>1.533524</td>\n",
       "      <td>0.796667</td>\n",
       "      <td>0.635423</td>\n",
       "      <td>0.315964</td>\n",
       "      <td>0.362012</td>\n",
       "      <td>NaN</td>\n",
       "      <td>NaN</td>\n",
       "    </tr>\n",
       "    <tr>\n",
       "      <th>1</th>\n",
       "      <td>2017</td>\n",
       "      <td>Denmark</td>\n",
       "      <td>2</td>\n",
       "      <td>7.522</td>\n",
       "      <td>1.482383</td>\n",
       "      <td>1.551122</td>\n",
       "      <td>0.792566</td>\n",
       "      <td>0.626007</td>\n",
       "      <td>0.400770</td>\n",
       "      <td>0.355280</td>\n",
       "      <td>NaN</td>\n",
       "      <td>NaN</td>\n",
       "    </tr>\n",
       "    <tr>\n",
       "      <th>2</th>\n",
       "      <td>2017</td>\n",
       "      <td>Iceland</td>\n",
       "      <td>3</td>\n",
       "      <td>7.504</td>\n",
       "      <td>1.480633</td>\n",
       "      <td>1.610574</td>\n",
       "      <td>0.833552</td>\n",
       "      <td>0.627163</td>\n",
       "      <td>0.153527</td>\n",
       "      <td>0.475540</td>\n",
       "      <td>NaN</td>\n",
       "      <td>NaN</td>\n",
       "    </tr>\n",
       "    <tr>\n",
       "      <th>3</th>\n",
       "      <td>2017</td>\n",
       "      <td>Switzerland</td>\n",
       "      <td>4</td>\n",
       "      <td>7.494</td>\n",
       "      <td>1.564980</td>\n",
       "      <td>1.516912</td>\n",
       "      <td>0.858131</td>\n",
       "      <td>0.620071</td>\n",
       "      <td>0.367007</td>\n",
       "      <td>0.290549</td>\n",
       "      <td>NaN</td>\n",
       "      <td></td>\n",
       "    </tr>\n",
       "    <tr>\n",
       "      <th>4</th>\n",
       "      <td>2017</td>\n",
       "      <td>Finland</td>\n",
       "      <td>5</td>\n",
       "      <td>7.469</td>\n",
       "      <td>1.443572</td>\n",
       "      <td>1.540247</td>\n",
       "      <td>0.809158</td>\n",
       "      <td>0.617951</td>\n",
       "      <td>0.382612</td>\n",
       "      <td>0.245483</td>\n",
       "      <td>NaN</td>\n",
       "      <td>NaN</td>\n",
       "    </tr>\n",
       "  </tbody>\n",
       "</table>\n",
       "</div>"
      ],
      "text/plain": [
       "   Year      Country  Happiness Rank  Happiness Score  Economy   \\\n",
       "0  2017       Norway               1            7.537  1.616463   \n",
       "1  2017      Denmark               2            7.522  1.482383   \n",
       "2  2017      Iceland               3            7.504  1.480633   \n",
       "3  2017  Switzerland               4            7.494  1.564980   \n",
       "4  2017      Finland               5            7.469  1.443572   \n",
       "\n",
       "   Social Support  Life Expectancy   Freedom  Governmental Trust  Generosity  \\\n",
       "0        1.533524         0.796667  0.635423            0.315964    0.362012   \n",
       "1        1.551122         0.792566  0.626007            0.400770    0.355280   \n",
       "2        1.610574         0.833552  0.627163            0.153527    0.475540   \n",
       "3        1.516912         0.858131  0.620071            0.367007    0.290549   \n",
       "4        1.540247         0.809158  0.617951            0.382612    0.245483   \n",
       "\n",
       "   Unnamed: 10 Unnamed: 11  \n",
       "0          NaN         NaN  \n",
       "1          NaN         NaN  \n",
       "2          NaN         NaN  \n",
       "3          NaN              \n",
       "4          NaN         NaN  "
      ]
     },
     "execution_count": 243,
     "metadata": {},
     "output_type": "execute_result"
    }
   ],
   "source": [
    "data_2017.head()"
   ]
  },
  {
   "cell_type": "code",
   "execution_count": 244,
   "id": "0f3cae2e",
   "metadata": {},
   "outputs": [],
   "source": [
    "# Importing 2018 Data\n",
    "data_2018 = pd.read_csv(r'/Users/kristenlehtinen/Documents/World Happiness Report/02 Data/Original Data/2018.csv')"
   ]
  },
  {
   "cell_type": "code",
   "execution_count": 245,
   "id": "2cb94302",
   "metadata": {},
   "outputs": [],
   "source": [
    "# Importing 2019 Data\n",
    "data_2019 = pd.read_csv(r'/Users/kristenlehtinen/Documents/World Happiness Report/02 Data/Original Data/2019.csv')"
   ]
  },
  {
   "cell_type": "code",
   "execution_count": 206,
   "id": "be1b0a08",
   "metadata": {
    "scrolled": true
   },
   "outputs": [
    {
     "data": {
      "text/html": [
       "<div>\n",
       "<style scoped>\n",
       "    .dataframe tbody tr th:only-of-type {\n",
       "        vertical-align: middle;\n",
       "    }\n",
       "\n",
       "    .dataframe tbody tr th {\n",
       "        vertical-align: top;\n",
       "    }\n",
       "\n",
       "    .dataframe thead th {\n",
       "        text-align: right;\n",
       "    }\n",
       "</style>\n",
       "<table border=\"1\" class=\"dataframe\">\n",
       "  <thead>\n",
       "    <tr style=\"text-align: right;\">\n",
       "      <th></th>\n",
       "      <th>Year</th>\n",
       "      <th>Country</th>\n",
       "      <th>Happiness Rank</th>\n",
       "      <th>Happiness Score</th>\n",
       "      <th>Economy</th>\n",
       "      <th>Social Support</th>\n",
       "      <th>Life Expectancy</th>\n",
       "      <th>Freedom</th>\n",
       "      <th>Governmental Trust</th>\n",
       "      <th>Generosity</th>\n",
       "    </tr>\n",
       "  </thead>\n",
       "  <tbody>\n",
       "    <tr>\n",
       "      <th>0</th>\n",
       "      <td>2019</td>\n",
       "      <td>Finland</td>\n",
       "      <td>1</td>\n",
       "      <td>7.769</td>\n",
       "      <td>1.340</td>\n",
       "      <td>1.587</td>\n",
       "      <td>0.986</td>\n",
       "      <td>0.596</td>\n",
       "      <td>0.393</td>\n",
       "      <td>0.153</td>\n",
       "    </tr>\n",
       "    <tr>\n",
       "      <th>1</th>\n",
       "      <td>2019</td>\n",
       "      <td>Denmark</td>\n",
       "      <td>2</td>\n",
       "      <td>7.600</td>\n",
       "      <td>1.383</td>\n",
       "      <td>1.573</td>\n",
       "      <td>0.996</td>\n",
       "      <td>0.592</td>\n",
       "      <td>0.410</td>\n",
       "      <td>0.252</td>\n",
       "    </tr>\n",
       "    <tr>\n",
       "      <th>2</th>\n",
       "      <td>2019</td>\n",
       "      <td>Norway</td>\n",
       "      <td>3</td>\n",
       "      <td>7.554</td>\n",
       "      <td>1.488</td>\n",
       "      <td>1.582</td>\n",
       "      <td>1.028</td>\n",
       "      <td>0.603</td>\n",
       "      <td>0.341</td>\n",
       "      <td>0.271</td>\n",
       "    </tr>\n",
       "    <tr>\n",
       "      <th>3</th>\n",
       "      <td>2019</td>\n",
       "      <td>Iceland</td>\n",
       "      <td>4</td>\n",
       "      <td>7.494</td>\n",
       "      <td>1.380</td>\n",
       "      <td>1.624</td>\n",
       "      <td>1.026</td>\n",
       "      <td>0.591</td>\n",
       "      <td>0.118</td>\n",
       "      <td>0.354</td>\n",
       "    </tr>\n",
       "    <tr>\n",
       "      <th>4</th>\n",
       "      <td>2019</td>\n",
       "      <td>Netherlands</td>\n",
       "      <td>5</td>\n",
       "      <td>7.488</td>\n",
       "      <td>1.396</td>\n",
       "      <td>1.522</td>\n",
       "      <td>0.999</td>\n",
       "      <td>0.557</td>\n",
       "      <td>0.298</td>\n",
       "      <td>0.322</td>\n",
       "    </tr>\n",
       "  </tbody>\n",
       "</table>\n",
       "</div>"
      ],
      "text/plain": [
       "    Year     Country   Happiness Rank  Happiness Score  Economy   \\\n",
       "0   2019      Finland               1            7.769     1.340   \n",
       "1   2019      Denmark               2            7.600     1.383   \n",
       "2   2019       Norway               3            7.554     1.488   \n",
       "3   2019      Iceland               4            7.494     1.380   \n",
       "4   2019  Netherlands               5            7.488     1.396   \n",
       "\n",
       "   Social Support  Life Expectancy  Freedom   Governmental Trust  Generosity  \n",
       "0           1.587            0.986     0.596               0.393       0.153  \n",
       "1           1.573            0.996     0.592               0.410       0.252  \n",
       "2           1.582            1.028     0.603               0.341       0.271  \n",
       "3           1.624            1.026     0.591               0.118       0.354  \n",
       "4           1.522            0.999     0.557               0.298       0.322  "
      ]
     },
     "execution_count": 206,
     "metadata": {},
     "output_type": "execute_result"
    }
   ],
   "source": [
    "data_2019.head()"
   ]
  },
  {
   "cell_type": "markdown",
   "id": "87b08ee1",
   "metadata": {},
   "source": [
    "# Checking for Missing Values"
   ]
  },
  {
   "cell_type": "code",
   "execution_count": 207,
   "id": "c4feab7e",
   "metadata": {},
   "outputs": [
    {
     "name": "stdout",
     "output_type": "stream",
     "text": [
      "Missing values per column:\n",
      "Year                  0\n",
      "Country               0\n",
      "Happiness Rank        0\n",
      "Happiness Score       0\n",
      "Economy               0\n",
      "Social Support        0\n",
      "Life Expectancy       0\n",
      "Freedom               0\n",
      "Governmental Trust    0\n",
      "Generosity            0\n",
      "dtype: int64\n"
     ]
    }
   ],
   "source": [
    "# Check for missing values in 2015\n",
    "missing_values = data_2015.isnull().sum()\n",
    "\n",
    "# Display the count of missing values for each column\n",
    "print(\"Missing values per column:\")\n",
    "print(missing_values)"
   ]
  },
  {
   "cell_type": "code",
   "execution_count": 208,
   "id": "52f829ef",
   "metadata": {},
   "outputs": [
    {
     "name": "stdout",
     "output_type": "stream",
     "text": [
      "Missing values per column:\n",
      "Year                  0\n",
      "Country               0\n",
      "Happiness Rank        0\n",
      "Happiness Score       0\n",
      "Economy               0\n",
      "Social Support        0\n",
      "Life Expectancy       0\n",
      "Freedom               0\n",
      "Governmental Trust    0\n",
      "Generosity            0\n",
      "dtype: int64\n"
     ]
    }
   ],
   "source": [
    "# Check for missing values in 2016\n",
    "missing_values = data_2016.isnull().sum()\n",
    "\n",
    "# Display missing values\n",
    "print(\"Missing values per column:\")\n",
    "print(missing_values)"
   ]
  },
  {
   "cell_type": "code",
   "execution_count": 209,
   "id": "7490311e",
   "metadata": {},
   "outputs": [
    {
     "name": "stdout",
     "output_type": "stream",
     "text": [
      "Missing values per column:\n",
      "Year                    0\n",
      "Country                 0\n",
      "Happiness Rank          0\n",
      "Happiness Score         0\n",
      "Economy                 0\n",
      "Social Support          0\n",
      "Life Expectancy         0\n",
      "Freedom                 0\n",
      "Governmental Trust      0\n",
      "Generosity              0\n",
      "Unnamed: 10           155\n",
      "Unnamed: 11           154\n",
      "dtype: int64\n"
     ]
    }
   ],
   "source": [
    "# Check for missing values in 2017\n",
    "missing_values = data_2017.isnull().sum()\n",
    "\n",
    "# Display missing values\n",
    "print(\"Missing values per column:\")\n",
    "print(missing_values)"
   ]
  },
  {
   "cell_type": "code",
   "execution_count": 210,
   "id": "7061401f",
   "metadata": {
    "scrolled": true
   },
   "outputs": [
    {
     "name": "stdout",
     "output_type": "stream",
     "text": [
      "Missing values per column:\n",
      "Year                  0\n",
      "Country               0\n",
      "Happiness Rank        0\n",
      "Happiness Score       0\n",
      "Economy               0\n",
      "Social Support        0\n",
      "Life Expectancy       0\n",
      "Governmental Trust    0\n",
      "Generosity            0\n",
      "dtype: int64\n"
     ]
    }
   ],
   "source": [
    "# Check for missing values in 2018\n",
    "missing_values = data_2018.isnull().sum()\n",
    "\n",
    "# Display missing values\n",
    "print(\"Missing values per column:\")\n",
    "print(missing_values)"
   ]
  },
  {
   "cell_type": "code",
   "execution_count": 211,
   "id": "cb88073a",
   "metadata": {},
   "outputs": [],
   "source": [
    "# Dropping missing value \n",
    "Data_2018_no_missing_values = data_2018.dropna()"
   ]
  },
  {
   "cell_type": "code",
   "execution_count": 212,
   "id": "443da05c",
   "metadata": {},
   "outputs": [
    {
     "name": "stdout",
     "output_type": "stream",
     "text": [
      "Missing values per column:\n",
      "Year                  0\n",
      "Country               0\n",
      "Happiness Rank        0\n",
      "Happiness Score       0\n",
      "Economy               0\n",
      "Social Support        0\n",
      "Life Expectancy       0\n",
      "Governmental Trust    0\n",
      "Generosity            0\n",
      "dtype: int64\n"
     ]
    }
   ],
   "source": [
    "# Check for missing values in 2018\n",
    "missing_values = Data_2018_no_missing_values.isnull().sum()\n",
    "\n",
    "# Display missing values\n",
    "print(\"Missing values per column:\")\n",
    "print(missing_values)"
   ]
  },
  {
   "cell_type": "code",
   "execution_count": 213,
   "id": "1b280967",
   "metadata": {},
   "outputs": [
    {
     "name": "stdout",
     "output_type": "stream",
     "text": [
      "Missing values per column:\n",
      " Year                 0\n",
      "Country               0\n",
      "Happiness Rank        0\n",
      "Happiness Score       0\n",
      "Economy               0\n",
      "Social Support        0\n",
      "Life Expectancy       0\n",
      "Freedom               0\n",
      "Governmental Trust    0\n",
      "Generosity            0\n",
      "dtype: int64\n"
     ]
    }
   ],
   "source": [
    "# Check for missing values in 2019\n",
    "missing_values = data_2019.isnull().sum()\n",
    "\n",
    "# Display missing values\n",
    "print(\"Missing values per column:\")\n",
    "print(missing_values)"
   ]
  },
  {
   "cell_type": "markdown",
   "id": "3f890ae3",
   "metadata": {},
   "source": [
    "# Checking for duplicate rows"
   ]
  },
  {
   "cell_type": "code",
   "execution_count": 214,
   "id": "b77064ef",
   "metadata": {},
   "outputs": [
    {
     "name": "stdout",
     "output_type": "stream",
     "text": [
      "Duplicate rows:\n"
     ]
    }
   ],
   "source": [
    "duplicate_rows_2015 = data_2015[data_2015.duplicated()]\n",
    "\n",
    "# Display the duplicate rows\n",
    "print(\"Duplicate rows:\")"
   ]
  },
  {
   "cell_type": "code",
   "execution_count": 215,
   "id": "a476ce78",
   "metadata": {},
   "outputs": [
    {
     "name": "stdout",
     "output_type": "stream",
     "text": [
      "Duplicate rows:\n"
     ]
    }
   ],
   "source": [
    "duplicate_rows_2016 = data_2016[data_2016.duplicated()]\n",
    "\n",
    "# Display the duplicate rows\n",
    "print(\"Duplicate rows:\")"
   ]
  },
  {
   "cell_type": "code",
   "execution_count": 216,
   "id": "d7942d73",
   "metadata": {},
   "outputs": [
    {
     "name": "stdout",
     "output_type": "stream",
     "text": [
      "Duplicate rows:\n"
     ]
    }
   ],
   "source": [
    "duplicate_rows_2017 = data_2017[data_2017.duplicated()]\n",
    "\n",
    "# Display the duplicate rows\n",
    "print(\"Duplicate rows:\")"
   ]
  },
  {
   "cell_type": "code",
   "execution_count": 217,
   "id": "12db2967",
   "metadata": {},
   "outputs": [
    {
     "name": "stdout",
     "output_type": "stream",
     "text": [
      "Duplicate rows:\n"
     ]
    }
   ],
   "source": [
    "duplicate_rows_2018 = Data_2018_no_missing_values[Data_2018_no_missing_values.duplicated()]\n",
    "\n",
    "# Display the duplicate rows\n",
    "print(\"Duplicate rows:\")"
   ]
  },
  {
   "cell_type": "code",
   "execution_count": 218,
   "id": "8ffeee1f",
   "metadata": {},
   "outputs": [
    {
     "name": "stdout",
     "output_type": "stream",
     "text": [
      "Duplicate rows:\n"
     ]
    }
   ],
   "source": [
    "duplicate_rows_2019 = data_2019[data_2019.duplicated()]\n",
    "\n",
    "# Display the duplicate rows\n",
    "print(\"Duplicate rows:\")"
   ]
  },
  {
   "cell_type": "markdown",
   "id": "c5ef8117",
   "metadata": {},
   "source": [
    "# Checking for Outliers"
   ]
  },
  {
   "cell_type": "code",
   "execution_count": 234,
   "id": "0eb6c2d4",
   "metadata": {},
   "outputs": [
    {
     "name": "stdout",
     "output_type": "stream",
     "text": [
      "         Year  Happiness Rank  Happiness Score     Economy  Social Support  \\\n",
      "count   158.0      158.000000       158.000000  158.000000      158.000000   \n",
      "mean   2015.0       79.493671         5.375734    0.846137        0.991046   \n",
      "std       0.0       45.754363         1.145010    0.403121        0.272369   \n",
      "min    2015.0        1.000000         2.839000    0.000000        0.000000   \n",
      "25%    2015.0       40.250000         4.526000    0.545808        0.856823   \n",
      "50%    2015.0       79.500000         5.232500    0.910245        1.029510   \n",
      "75%    2015.0      118.750000         6.243750    1.158448        1.214405   \n",
      "max    2015.0      158.000000         7.587000    1.690420        1.402230   \n",
      "\n",
      "       Life Expectancy     Freedom  Governmental Trust  Generosity  \n",
      "count       158.000000  158.000000          158.000000  158.000000  \n",
      "mean          0.630259    0.428615            0.143422    0.237296  \n",
      "std           0.247078    0.150693            0.120034    0.126685  \n",
      "min           0.000000    0.000000            0.000000    0.000000  \n",
      "25%           0.439185    0.328330            0.061675    0.150553  \n",
      "50%           0.696705    0.435515            0.107220    0.216130  \n",
      "75%           0.811013    0.549092            0.180255    0.309883  \n",
      "max           1.025250    0.669730            0.551910    0.795880  \n"
     ]
    }
   ],
   "source": [
    "# Merged data 2015-2019\n",
    "summary_stats = merged_data.describe()\n",
    "print(summary_stats)"
   ]
  },
  {
   "cell_type": "code",
   "execution_count": 219,
   "id": "cce21118",
   "metadata": {},
   "outputs": [
    {
     "name": "stdout",
     "output_type": "stream",
     "text": [
      "         Year  Happiness Rank  Happiness Score     Economy  Social Support  \\\n",
      "count   158.0      158.000000       158.000000  158.000000      158.000000   \n",
      "mean   2015.0       79.493671         5.375734    0.846137        0.991046   \n",
      "std       0.0       45.754363         1.145010    0.403121        0.272369   \n",
      "min    2015.0        1.000000         2.839000    0.000000        0.000000   \n",
      "25%    2015.0       40.250000         4.526000    0.545808        0.856823   \n",
      "50%    2015.0       79.500000         5.232500    0.910245        1.029510   \n",
      "75%    2015.0      118.750000         6.243750    1.158448        1.214405   \n",
      "max    2015.0      158.000000         7.587000    1.690420        1.402230   \n",
      "\n",
      "       Life Expectancy     Freedom  Governmental Trust  Generosity  \n",
      "count       158.000000  158.000000          158.000000  158.000000  \n",
      "mean          0.630259    0.428615            0.143422    0.237296  \n",
      "std           0.247078    0.150693            0.120034    0.126685  \n",
      "min           0.000000    0.000000            0.000000    0.000000  \n",
      "25%           0.439185    0.328330            0.061675    0.150553  \n",
      "50%           0.696705    0.435515            0.107220    0.216130  \n",
      "75%           0.811013    0.549092            0.180255    0.309883  \n",
      "max           1.025250    0.669730            0.551910    0.795880  \n"
     ]
    }
   ],
   "source": [
    "#Summary Stats 2015\n",
    "summary_stats = data_2015.describe()\n",
    "print(summary_stats)"
   ]
  },
  {
   "cell_type": "code",
   "execution_count": 220,
   "id": "f3db6853",
   "metadata": {},
   "outputs": [
    {
     "name": "stdout",
     "output_type": "stream",
     "text": [
      "         Year  Happiness Rank  Happiness Score    Economy   Social Support  \\\n",
      "count   157.0      157.000000       157.000000  157.000000      157.000000   \n",
      "mean   2016.0       78.980892         5.382185    0.953880        0.793621   \n",
      "std       0.0       45.466030         1.141674    0.412595        0.266706   \n",
      "min    2016.0        1.000000         2.905000    0.000000        0.000000   \n",
      "25%    2016.0       40.000000         4.404000    0.670240        0.641840   \n",
      "50%    2016.0       79.000000         5.314000    1.027800        0.841420   \n",
      "75%    2016.0      118.000000         6.269000    1.279640        1.021520   \n",
      "max    2016.0      157.000000         7.526000    1.824270        1.183260   \n",
      "\n",
      "       Life Expectancy     Freedom  Governmental Trust  Generosity  \n",
      "count       157.000000  157.000000          157.000000  157.000000  \n",
      "mean          0.557619    0.370994            0.137624    0.242635  \n",
      "std           0.229349    0.145507            0.111038    0.133756  \n",
      "min           0.000000    0.000000            0.000000    0.000000  \n",
      "25%           0.382910    0.257480            0.061260    0.154570  \n",
      "50%           0.596590    0.397470            0.105470    0.222450  \n",
      "75%           0.729930    0.484530            0.175540    0.311850  \n",
      "max           0.952770    0.608480            0.505210    0.819710  \n"
     ]
    }
   ],
   "source": [
    "#Summary Stats 2016\n",
    "summary_stats = data_2016.describe()\n",
    "print(summary_stats)"
   ]
  },
  {
   "cell_type": "code",
   "execution_count": 230,
   "id": "e324c32d",
   "metadata": {},
   "outputs": [
    {
     "name": "stdout",
     "output_type": "stream",
     "text": [
      "         Year  Happiness Rank  Happiness Score    Economy   Social Support  \\\n",
      "count   155.0      155.000000       155.000000  155.000000      155.000000   \n",
      "mean   2017.0       78.000000         5.354019    0.984718        1.188898   \n",
      "std       0.0       44.888751         1.131230    0.420793        0.287263   \n",
      "min    2017.0        1.000000         2.693000    0.000000        0.000000   \n",
      "25%    2017.0       39.500000         4.505500    0.663371        1.042635   \n",
      "50%    2017.0       78.000000         5.279000    1.064578        1.253918   \n",
      "75%    2017.0      116.500000         6.101500    1.318027        1.414316   \n",
      "max    2017.0      155.000000         7.537000    1.870766        1.610574   \n",
      "\n",
      "       Life Expectancy     Freedom  Governmental Trust  Generosity  \\\n",
      "count       155.000000  155.000000          155.000000  155.000000   \n",
      "mean          0.551341    0.408786            0.123120    0.246883   \n",
      "std           0.237073    0.149997            0.101661    0.134780   \n",
      "min           0.000000    0.000000            0.000000    0.000000   \n",
      "25%           0.369866    0.303677            0.057271    0.154106   \n",
      "50%           0.606042    0.437454            0.089848    0.231538   \n",
      "75%           0.723008    0.516561            0.153296    0.323762   \n",
      "max           0.949492    0.658249            0.464308    0.838075   \n",
      "\n",
      "       Unnamed: 10  \n",
      "count          0.0  \n",
      "mean           NaN  \n",
      "std            NaN  \n",
      "min            NaN  \n",
      "25%            NaN  \n",
      "50%            NaN  \n",
      "75%            NaN  \n",
      "max            NaN  \n"
     ]
    }
   ],
   "source": [
    "#Summary Stats 2017\n",
    "summary_stats = data_2017.describe()\n",
    "print(summary_stats)"
   ]
  },
  {
   "cell_type": "code",
   "execution_count": 221,
   "id": "a1758568",
   "metadata": {},
   "outputs": [
    {
     "name": "stdout",
     "output_type": "stream",
     "text": [
      "         Year  Happiness Rank  Happiness Score    Economy   Social Support  \\\n",
      "count   156.0      156.000000       156.000000  156.000000      156.000000   \n",
      "mean   2018.0       78.500000         5.375917    0.891449        1.213237   \n",
      "std       0.0       45.177428         1.119506    0.391921        0.302372   \n",
      "min    2018.0        1.000000         2.905000    0.000000        0.000000   \n",
      "25%    2018.0       39.750000         4.453750    0.616250        1.066750   \n",
      "50%    2018.0       78.500000         5.378000    0.949500        1.255000   \n",
      "75%    2018.0      117.250000         6.168500    1.197750        1.463000   \n",
      "max    2018.0      156.000000         7.632000    2.096000        1.644000   \n",
      "\n",
      "       Life Expectancy  Governmental Trust  Generosity  \n",
      "count       156.000000          156.000000  156.000000  \n",
      "mean          0.597346            0.454506    0.181006  \n",
      "std           0.247579            0.162424    0.098471  \n",
      "min           0.000000            0.000000    0.000000  \n",
      "25%           0.422250            0.356000    0.109500  \n",
      "50%           0.644000            0.487000    0.174000  \n",
      "75%           0.777250            0.578500    0.239000  \n",
      "max           1.030000            0.724000    0.598000  \n"
     ]
    }
   ],
   "source": [
    "#Summary Stats 2018\n",
    "summary_stats = Data_2018_no_missing_values.describe()\n",
    "print(summary_stats)"
   ]
  },
  {
   "cell_type": "code",
   "execution_count": 222,
   "id": "663c467e",
   "metadata": {},
   "outputs": [
    {
     "name": "stdout",
     "output_type": "stream",
     "text": [
      "         Year  Happiness Rank  Happiness Score    Economy   Social Support  \\\n",
      "count   156.0      156.000000       156.000000  156.000000      156.000000   \n",
      "mean   2019.0       78.500000         5.407096    0.905147        1.208814   \n",
      "std       0.0       45.177428         1.113120    0.398389        0.299191   \n",
      "min    2019.0        1.000000         2.853000    0.000000        0.000000   \n",
      "25%    2019.0       39.750000         4.544500    0.602750        1.055750   \n",
      "50%    2019.0       78.500000         5.379500    0.960000        1.271500   \n",
      "75%    2019.0      117.250000         6.184500    1.232500        1.452500   \n",
      "max    2019.0      156.000000         7.769000    1.684000        1.624000   \n",
      "\n",
      "       Life Expectancy    Freedom   Governmental Trust  Generosity  \n",
      "count       156.000000  156.000000          156.000000  156.000000  \n",
      "mean          0.725244    0.392571            0.110603    0.184846  \n",
      "std           0.242124    0.143289            0.094538    0.095254  \n",
      "min           0.000000    0.000000            0.000000    0.000000  \n",
      "25%           0.547750    0.308000            0.047000    0.108750  \n",
      "50%           0.789000    0.417000            0.085500    0.177500  \n",
      "75%           0.881750    0.507250            0.141250    0.248250  \n",
      "max           1.141000    0.631000            0.453000    0.566000  \n"
     ]
    }
   ],
   "source": [
    "#Summary Stats 2019\n",
    "summary_stats = data_2019.describe()\n",
    "print(summary_stats)"
   ]
  },
  {
   "cell_type": "code",
   "execution_count": 223,
   "id": "90c0a7f5",
   "metadata": {},
   "outputs": [
    {
     "data": {
      "text/plain": [
       "Index(['Year', 'Country', 'Happiness Rank', 'Happiness Score', 'Economy',\n",
       "       'Social Support', 'Life Expectancy', 'Freedom', 'Governmental Trust',\n",
       "       'Generosity'],\n",
       "      dtype='object')"
      ]
     },
     "execution_count": 223,
     "metadata": {},
     "output_type": "execute_result"
    }
   ],
   "source": [
    "data_2015.columns"
   ]
  },
  {
   "cell_type": "markdown",
   "id": "caa6d277",
   "metadata": {},
   "source": [
    "# Checking data types"
   ]
  },
  {
   "cell_type": "code",
   "execution_count": 224,
   "id": "4f68ab4c",
   "metadata": {},
   "outputs": [
    {
     "name": "stdout",
     "output_type": "stream",
     "text": [
      "<class 'pandas.core.frame.DataFrame'>\n",
      "RangeIndex: 158 entries, 0 to 157\n",
      "Data columns (total 10 columns):\n",
      " #   Column              Non-Null Count  Dtype  \n",
      "---  ------              --------------  -----  \n",
      " 0   Year                158 non-null    int64  \n",
      " 1   Country             158 non-null    object \n",
      " 2   Happiness Rank      158 non-null    int64  \n",
      " 3   Happiness Score     158 non-null    float64\n",
      " 4   Economy             158 non-null    float64\n",
      " 5   Social Support      158 non-null    float64\n",
      " 6   Life Expectancy     158 non-null    float64\n",
      " 7   Freedom             158 non-null    float64\n",
      " 8   Governmental Trust  158 non-null    float64\n",
      " 9   Generosity          158 non-null    float64\n",
      "dtypes: float64(7), int64(2), object(1)\n",
      "memory usage: 12.5+ KB\n"
     ]
    }
   ],
   "source": [
    "data_2015.info()"
   ]
  },
  {
   "cell_type": "code",
   "execution_count": 225,
   "id": "9f0f6dbe",
   "metadata": {},
   "outputs": [
    {
     "name": "stdout",
     "output_type": "stream",
     "text": [
      "<class 'pandas.core.frame.DataFrame'>\n",
      "RangeIndex: 157 entries, 0 to 156\n",
      "Data columns (total 10 columns):\n",
      " #   Column              Non-Null Count  Dtype  \n",
      "---  ------              --------------  -----  \n",
      " 0   Year                157 non-null    int64  \n",
      " 1   Country             157 non-null    object \n",
      " 2   Happiness Rank      157 non-null    int64  \n",
      " 3   Happiness Score     157 non-null    float64\n",
      " 4   Economy             157 non-null    float64\n",
      " 5   Social Support      157 non-null    float64\n",
      " 6   Life Expectancy     157 non-null    float64\n",
      " 7   Freedom             157 non-null    float64\n",
      " 8   Governmental Trust  157 non-null    float64\n",
      " 9   Generosity          157 non-null    float64\n",
      "dtypes: float64(7), int64(2), object(1)\n",
      "memory usage: 12.4+ KB\n"
     ]
    }
   ],
   "source": [
    "data_2016.info()"
   ]
  },
  {
   "cell_type": "code",
   "execution_count": 226,
   "id": "4bcb05a3",
   "metadata": {},
   "outputs": [
    {
     "name": "stdout",
     "output_type": "stream",
     "text": [
      "<class 'pandas.core.frame.DataFrame'>\n",
      "RangeIndex: 155 entries, 0 to 154\n",
      "Data columns (total 12 columns):\n",
      " #   Column              Non-Null Count  Dtype  \n",
      "---  ------              --------------  -----  \n",
      " 0   Year                155 non-null    int64  \n",
      " 1   Country             155 non-null    object \n",
      " 2   Happiness Rank      155 non-null    int64  \n",
      " 3   Happiness Score     155 non-null    float64\n",
      " 4   Economy             155 non-null    float64\n",
      " 5   Social Support      155 non-null    float64\n",
      " 6   Life Expectancy     155 non-null    float64\n",
      " 7   Freedom             155 non-null    float64\n",
      " 8   Governmental Trust  155 non-null    float64\n",
      " 9   Generosity          155 non-null    float64\n",
      " 10  Unnamed: 10         0 non-null      float64\n",
      " 11  Unnamed: 11         1 non-null      object \n",
      "dtypes: float64(8), int64(2), object(2)\n",
      "memory usage: 14.7+ KB\n"
     ]
    }
   ],
   "source": [
    "data_2017.info()"
   ]
  },
  {
   "cell_type": "code",
   "execution_count": 227,
   "id": "d06279ab",
   "metadata": {},
   "outputs": [
    {
     "name": "stdout",
     "output_type": "stream",
     "text": [
      "<class 'pandas.core.frame.DataFrame'>\n",
      "RangeIndex: 156 entries, 0 to 155\n",
      "Data columns (total 9 columns):\n",
      " #   Column              Non-Null Count  Dtype  \n",
      "---  ------              --------------  -----  \n",
      " 0   Year                156 non-null    int64  \n",
      " 1   Country             156 non-null    object \n",
      " 2   Happiness Rank      156 non-null    int64  \n",
      " 3   Happiness Score     156 non-null    float64\n",
      " 4   Economy             156 non-null    float64\n",
      " 5   Social Support      156 non-null    float64\n",
      " 6   Life Expectancy     156 non-null    float64\n",
      " 7   Governmental Trust  156 non-null    float64\n",
      " 8   Generosity          156 non-null    float64\n",
      "dtypes: float64(6), int64(2), object(1)\n",
      "memory usage: 11.1+ KB\n"
     ]
    }
   ],
   "source": [
    "Data_2018_no_missing_values.info()"
   ]
  },
  {
   "cell_type": "code",
   "execution_count": 228,
   "id": "60bddc56",
   "metadata": {},
   "outputs": [
    {
     "name": "stdout",
     "output_type": "stream",
     "text": [
      "<class 'pandas.core.frame.DataFrame'>\n",
      "RangeIndex: 156 entries, 0 to 155\n",
      "Data columns (total 10 columns):\n",
      " #   Column              Non-Null Count  Dtype  \n",
      "---  ------              --------------  -----  \n",
      " 0    Year               156 non-null    int64  \n",
      " 1   Country             156 non-null    object \n",
      " 2   Happiness Rank      156 non-null    int64  \n",
      " 3   Happiness Score     156 non-null    float64\n",
      " 4   Economy             156 non-null    float64\n",
      " 5   Social Support      156 non-null    float64\n",
      " 6   Life Expectancy     156 non-null    float64\n",
      " 7   Freedom             156 non-null    float64\n",
      " 8   Governmental Trust  156 non-null    float64\n",
      " 9   Generosity          156 non-null    float64\n",
      "dtypes: float64(7), int64(2), object(1)\n",
      "memory usage: 12.3+ KB\n"
     ]
    }
   ],
   "source": [
    "data_2019.info()"
   ]
  },
  {
   "cell_type": "code",
   "execution_count": 229,
   "id": "5a68088f",
   "metadata": {},
   "outputs": [],
   "source": [
    "Data_2018_no_missing_values.to_csv(os.path.join(path, '02 Data', '2018_data.csv'))"
   ]
  },
  {
   "cell_type": "code",
   "execution_count": null,
   "id": "2590fb49",
   "metadata": {},
   "outputs": [],
   "source": []
  }
 ],
 "metadata": {
  "kernelspec": {
   "display_name": "Python 3 (ipykernel)",
   "language": "python",
   "name": "python3"
  },
  "language_info": {
   "codemirror_mode": {
    "name": "ipython",
    "version": 3
   },
   "file_extension": ".py",
   "mimetype": "text/x-python",
   "name": "python",
   "nbconvert_exporter": "python",
   "pygments_lexer": "ipython3",
   "version": "3.11.5"
  }
 },
 "nbformat": 4,
 "nbformat_minor": 5
}
